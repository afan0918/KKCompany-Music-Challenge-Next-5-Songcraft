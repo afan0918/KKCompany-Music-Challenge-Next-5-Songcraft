{
 "cells": [
  {
   "cell_type": "code",
   "execution_count": 1,
   "metadata": {
    "ExecuteTime": {
     "end_time": "2023-12-26T05:54:27.936429600Z",
     "start_time": "2023-12-26T05:54:27.687111100Z"
    }
   },
   "outputs": [],
   "source": [
    "import pandas as pd\n",
    "from tqdm import tqdm\n",
    "from json import loads, dumps"
   ]
  },
  {
   "cell_type": "code",
   "execution_count": 2,
   "metadata": {
    "ExecuteTime": {
     "end_time": "2023-12-26T05:54:30.535282300Z",
     "start_time": "2023-12-26T05:54:27.939434500Z"
    }
   },
   "outputs": [],
   "source": [
    "# index, session_id, song_id, unix_played_at, play_status, login_type, listening_order\n",
    "train_source = pd.read_parquet(\"../../datagame-2023/label_train_source.parquet\")\n",
    "# index, session_id, song_id, unix_played_at, play_status, login_type, listening_order\n",
    "train_target = pd.read_parquet(\"../../datagame-2023/label_train_target.parquet\")\n",
    "# index, session_id, song_id, unix_played_at, play_status, login_type, listening_order\n",
    "test_source = pd.read_parquet(\"../../datagame-2023/label_test_source.parquet\")\n",
    "# index, song_id, artist_id, song_length, album_id, language_id, album_month\n",
    "meta_song = pd.read_parquet(\"../../datagame-2023/meta_song.parquet\")\n",
    "# index, song_id, composer_id\n",
    "meta_song_composer = pd.read_parquet(\"../../datagame-2023/meta_song_composer.parquet\")\n",
    "# index, song_id, genre_id\n",
    "meta_song_genre = pd.read_parquet(\"../../datagame-2023/meta_song_genre.parquet\")\n",
    "# index, song_id, lyricist_id\n",
    "meta_song_lyricist = pd.read_parquet(\"../../datagame-2023/meta_song_lyricist.parquet\")\n",
    "# index, song_id, producer_id\n",
    "meta_song_producer = pd.read_parquet(\"../../datagame-2023/meta_song_producer.parquet\")\n",
    "# index, song_id, title_text_id\n",
    "meta_song_titletext = pd.read_parquet(\"../../datagame-2023/meta_song_titletext.parquet\")"
   ]
  },
  {
   "cell_type": "code",
   "execution_count": 3,
   "metadata": {
    "ExecuteTime": {
     "end_time": "2023-12-26T05:54:33.121203Z",
     "start_time": "2023-12-26T05:54:30.538797600Z"
    }
   },
   "outputs": [
    {
     "name": "stderr",
     "output_type": "stream",
     "text": [
      "1161955it [00:00, 2004455.29it/s]                            \n",
      " 46%|████▌     | 475632/1030712 [00:00<00:00, 1746936.17it/s]\n",
      "100%|██████████| 1030712/1030712 [00:01<00:00, 599710.19it/s]\n"
     ]
    }
   ],
   "source": [
    "song_to_genre = dict()\n",
    "song_to_lyricist = dict()\n",
    "song_to_artist = dict()\n",
    "song_to_album = dict()\n",
    "song_to_language = dict()\n",
    "song_to_album_month = dict()\n",
    "\n",
    "for row in tqdm(meta_song_genre.itertuples(), total=len(meta_song)):\n",
    "    song_to_genre[row.song_id] = row.genre_id\n",
    "\n",
    "for row in tqdm(meta_song_lyricist.itertuples(), total=len(meta_song)):\n",
    "    song_to_lyricist[row.song_id] = row.lyricist_id\n",
    "\n",
    "for row in tqdm(meta_song.itertuples(), total=len(meta_song)):\n",
    "    if not pd.isna(row.artist_id):\n",
    "        song_to_artist[row.song_id] = int(row.artist_id)\n",
    "\n",
    "    if not pd.isna(row.album_id):\n",
    "        song_to_album[row.song_id] = int(row.album_id)\n",
    "\n",
    "    if not pd.isna(row.language_id):\n",
    "        song_to_language[row.song_id] = int(row.language_id)"
   ]
  },
  {
   "cell_type": "code",
   "execution_count": 4,
   "metadata": {
    "ExecuteTime": {
     "end_time": "2023-12-26T05:54:35.133826400Z",
     "start_time": "2023-12-26T05:54:33.175773400Z"
    }
   },
   "outputs": [],
   "source": [
    "# Combine train_source and train_target by session_id\n",
    "combined_train = pd.concat([train_source, train_target], ignore_index=True)\n",
    "\n",
    "combined_train = combined_train.sort_values(by=['unix_played_at'])"
   ]
  },
  {
   "cell_type": "code",
   "execution_count": 5,
   "metadata": {
    "ExecuteTime": {
     "end_time": "2023-12-26T05:54:46.013726Z",
     "start_time": "2023-12-26T05:54:35.660837600Z"
    }
   },
   "outputs": [],
   "source": [
    "from collections import defaultdict\n",
    "\n",
    "song_to_sessions = defaultdict(list)\n",
    "\n",
    "# 'session_id' 轉換為 list\n",
    "grouped_by_songs = combined_train.groupby('song_id')['session_id'].apply(list)\n",
    "\n",
    "# 將結果轉換為字典\n",
    "song_to_sessions = grouped_by_songs.to_dict()"
   ]
  },
  {
   "cell_type": "code",
   "execution_count": 6,
   "outputs": [
    {
     "name": "stderr",
     "output_type": "stream",
     "text": [
      "100%|██████████| 1030712/1030712 [00:10<00:00, 95813.95it/s]\n"
     ]
    }
   ],
   "source": [
    "from collections import defaultdict\n",
    "import json\n",
    "import os\n",
    "\n",
    "song_info = defaultdict(lambda: defaultdict(str))\n",
    "fields = ['artist', 'album', 'language', 'genre']\n",
    "\n",
    "fields_to_dict = {\n",
    "    'artist': song_to_artist,\n",
    "    'album': song_to_album,\n",
    "    'language': song_to_language,\n",
    "    'genre': song_to_genre,\n",
    "}\n",
    "\n",
    "if not os.path.exists('corpus'):\n",
    "    os.makedirs('corpus')\n",
    "\n",
    "with open(\"./corpus/sparse_corpus.jsonl\", 'w', encoding='utf-8') as jsonl_file:\n",
    "    # 合併兩個迴圈\n",
    "    for row in tqdm(meta_song.itertuples(), total=len(meta_song)):\n",
    "        song_id = row.song_id\n",
    "\n",
    "        # 生成 contents 字串時判斷值是否為空\n",
    "        contents_list = [f'{field}{fields_to_dict[field].get(song_id, \"\")}' for field in fields if fields_to_dict[field].get(song_id, \"\") != \"\"]\n",
    "        contents_str = ' '.join(contents_list)\n",
    "        song_get = song_to_sessions.get(song_id, [])\n",
    "        song_get = [hex(session)[2:] for session in song_get]\n",
    "        tmp = ' '\n",
    "        if len(song_get) == 0 or len(contents_str) == 0:\n",
    "            tmp = ''\n",
    "        song_content = contents_str + tmp + ' '.join(song_get)\n",
    "\n",
    "        if len(song_content) < 3:\n",
    "            continue\n",
    "\n",
    "        if len(song_content) != 0:\n",
    "            song_info[song_id]['id'] = song_id  # 將 song_id 加入 id 欄位\n",
    "            song_info[song_id]['contents'] = song_content\n",
    "\n",
    "        # 將字典轉換為 JSON 並寫入 JSONL 文件\n",
    "        jsonl_file.write(json.dumps(song_info[song_id]) + '\\n')"
   ],
   "metadata": {
    "collapsed": false,
    "ExecuteTime": {
     "end_time": "2023-12-26T05:54:56.792232300Z",
     "start_time": "2023-12-26T05:54:46.023974Z"
    }
   }
  },
  {
   "cell_type": "code",
   "execution_count": 7,
   "outputs": [
    {
     "data": {
      "text/plain": "1019117"
     },
     "execution_count": 7,
     "metadata": {},
     "output_type": "execute_result"
    }
   ],
   "source": [
    "len(song_info)"
   ],
   "metadata": {
    "collapsed": false,
    "ExecuteTime": {
     "end_time": "2023-12-26T05:54:56.801131Z",
     "start_time": "2023-12-26T05:54:56.795622100Z"
    }
   }
  }
 ],
 "metadata": {
  "kernelspec": {
   "display_name": "pyserini",
   "language": "python",
   "name": "python3"
  },
  "language_info": {
   "codemirror_mode": {
    "name": "ipython",
    "version": 3
   },
   "file_extension": ".py",
   "mimetype": "text/x-python",
   "name": "python",
   "nbconvert_exporter": "python",
   "pygments_lexer": "ipython3",
   "version": "3.8.17"
  }
 },
 "nbformat": 4,
 "nbformat_minor": 2
}

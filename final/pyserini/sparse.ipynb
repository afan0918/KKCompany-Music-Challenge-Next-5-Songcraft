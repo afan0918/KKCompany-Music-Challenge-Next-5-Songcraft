{
 "cells": [
  {
   "cell_type": "code",
   "execution_count": 1,
   "metadata": {
    "ExecuteTime": {
     "end_time": "2023-12-26T05:56:43.535098Z",
     "start_time": "2023-12-26T05:56:43.297857800Z"
    }
   },
   "outputs": [],
   "source": [
    "import pandas as pd\n",
    "from tqdm import tqdm"
   ]
  },
  {
   "cell_type": "code",
   "execution_count": 2,
   "metadata": {
    "ExecuteTime": {
     "end_time": "2023-12-26T05:56:46.163490800Z",
     "start_time": "2023-12-26T05:56:43.539327600Z"
    }
   },
   "outputs": [],
   "source": [
    "# index, session_id, song_id, unix_played_at, play_status, login_type, listening_order\n",
    "train_source = pd.read_parquet(\"../../datagame-2023/label_train_source.parquet\")\n",
    "# index, session_id, song_id, unix_played_at, play_status, login_type, listening_order\n",
    "train_target = pd.read_parquet(\"../../datagame-2023/label_train_target.parquet\")\n",
    "# index, session_id, song_id, unix_played_at, play_status, login_type, listening_order\n",
    "test_source = pd.read_parquet(\"../../datagame-2023/label_test_source.parquet\")\n",
    "# index, song_id, artist_id, song_length, album_id, language_id, album_month\n",
    "meta_song = pd.read_parquet(\"../../datagame-2023/meta_song.parquet\")\n",
    "# index, song_id, composer_id\n",
    "meta_song_composer = pd.read_parquet(\"../../datagame-2023/meta_song_composer.parquet\")\n",
    "# index, song_id, genre_id\n",
    "meta_song_genre = pd.read_parquet(\"../../datagame-2023/meta_song_genre.parquet\")\n",
    "# index, song_id, lyricist_id\n",
    "meta_song_lyricist = pd.read_parquet(\"../../datagame-2023/meta_song_lyricist.parquet\")\n",
    "# index, song_id, producer_id\n",
    "meta_song_producer = pd.read_parquet(\"../../datagame-2023/meta_song_producer.parquet\")\n",
    "# index, song_id, title_text_id\n",
    "meta_song_titletext = pd.read_parquet(\"../../datagame-2023/meta_song_titletext.parquet\")"
   ]
  },
  {
   "cell_type": "code",
   "execution_count": 3,
   "metadata": {
    "ExecuteTime": {
     "end_time": "2023-12-26T05:56:52.678425200Z",
     "start_time": "2023-12-26T05:56:46.166576800Z"
    }
   },
   "outputs": [
    {
     "name": "stderr",
     "output_type": "stream",
     "text": [
      "100%|██████████| 143064/143064 [00:05<00:00, 25688.14it/s]\n"
     ]
    }
   ],
   "source": [
    "# Preparse session's songs\n",
    "from collections import defaultdict\n",
    "\n",
    "session_to_songs = defaultdict(list)  # key -> session_id, value -> songs\n",
    "\n",
    "test_source = test_source.sort_values(by=['session_id', 'listening_order'])\n",
    "\n",
    "group_by_session = test_source.groupby('session_id')\n",
    "\n",
    "for _, group_song in tqdm(group_by_session):\n",
    "    session_id = group_song['session_id'].iloc[0]\n",
    "    session_to_songs[session_id] = group_song['song_id'].tolist()"
   ]
  },
  {
   "cell_type": "code",
   "execution_count": 4,
   "outputs": [
    {
     "name": "stderr",
     "output_type": "stream",
     "text": [
      "100%|██████████| 2861295/2861295 [00:01<00:00, 1639204.10it/s]\n",
      "100%|██████████| 2861280/2861280 [00:01<00:00, 1754781.41it/s]\n"
     ]
    }
   ],
   "source": [
    "session_to_time = dict()\n",
    "for row in tqdm(train_target.itertuples(), total=len(train_target)):\n",
    "    session_to_time[row.session_id] = row.unix_played_at\n",
    "for row in tqdm(test_source.itertuples(), total=len(test_source)):\n",
    "    session_to_time[row.session_id] = row.unix_played_at"
   ],
   "metadata": {
    "collapsed": false,
    "ExecuteTime": {
     "end_time": "2023-12-26T05:56:56.063276300Z",
     "start_time": "2023-12-26T05:56:52.680473500Z"
    }
   }
  },
  {
   "cell_type": "code",
   "execution_count": 5,
   "outputs": [
    {
     "data": {
      "text/plain": "1664085793"
     },
     "execution_count": 5,
     "metadata": {},
     "output_type": "execute_result"
    }
   ],
   "source": [
    "session_to_time[8]"
   ],
   "metadata": {
    "collapsed": false,
    "ExecuteTime": {
     "end_time": "2023-12-26T05:56:56.072486900Z",
     "start_time": "2023-12-26T05:56:56.068476400Z"
    }
   }
  },
  {
   "cell_type": "code",
   "execution_count": 6,
   "outputs": [
    {
     "name": "stderr",
     "output_type": "stream",
     "text": [
      "100%|██████████| 143064/143064 [00:05<00:00, 25582.03it/s]\n"
     ]
    }
   ],
   "source": [
    "# Preparse session's songs\n",
    "from collections import defaultdict\n",
    "\n",
    "session_to_songs = defaultdict(list)  # key -> session_id, value -> songs\n",
    "\n",
    "test_source = test_source.sort_values(by=['session_id', 'listening_order'])\n",
    "\n",
    "group_by_session = test_source.groupby('session_id')\n",
    "\n",
    "for _, group_song in tqdm(group_by_session):\n",
    "    session_id = group_song['session_id'].iloc[0]\n",
    "    session_to_songs[session_id] = group_song['song_id'].tolist()"
   ],
   "metadata": {
    "collapsed": false,
    "ExecuteTime": {
     "end_time": "2023-12-26T05:57:02.361314500Z",
     "start_time": "2023-12-26T05:56:56.072486900Z"
    }
   }
  },
  {
   "cell_type": "code",
   "execution_count": 7,
   "outputs": [],
   "source": [
    "\"\"\" For Jelinek-Mercer smoothing \"\"\"\n",
    "from pyserini.search.lucene import LuceneSearcher\n",
    "\n",
    "\n",
    "class MyLuceneSearcher(LuceneSearcher):\n",
    "    def set_jmlm(self, Lambda: float = 0.9999):\n",
    "        \"\"\" Set the Jelinek-Mercer smoothing with lambda\n",
    "\n",
    "        Reference java code:\n",
    "            public void set_qld(float mu) {\n",
    "              this.similarity = new LMDirichletSimilarity(mu); # SimpleSearcher\n",
    "\n",
    "              // We need to re-initialize the searcher\n",
    "              searcher = new IndexSearcher(reader); # SimpleSearcher.searcher\n",
    "              searcher.setSimilarity(similarity); # SimpleSearcher.searcher\n",
    "            }\n",
    "        Args:\n",
    "            l (float): Lamda\n",
    "        \"\"\"\n",
    "        from jnius import autoclass\n",
    "\n",
    "        LMDirichletSimilarity = autoclass(\"org.apache.lucene.search.similarities.LMJelinekMercerSimilarity\")\n",
    "        self.object.similarity = LMDirichletSimilarity(Lambda)\n",
    "\n",
    "        # We need to re-initialize the searcher\n",
    "        IndexSearcher = autoclass(\"org.apache.lucene.search.IndexSearcher\")\n",
    "        self.object.searcher = IndexSearcher(self.object.reader)\n",
    "        self.object.searcher.setSimilarity(self.object.similarity)\n",
    "        print(\"set to jmlm with lambda = {}\".format(Lambda))"
   ],
   "metadata": {
    "collapsed": false,
    "ExecuteTime": {
     "end_time": "2023-12-26T05:57:04.871302400Z",
     "start_time": "2023-12-26T05:57:02.362323500Z"
    }
   }
  },
  {
   "cell_type": "code",
   "execution_count": 8,
   "metadata": {
    "ExecuteTime": {
     "end_time": "2023-12-26T05:57:04.898207700Z",
     "start_time": "2023-12-26T05:57:04.885211Z"
    }
   },
   "outputs": [],
   "source": [
    "from pyserini.index.lucene import IndexReader\n",
    "from pyserini.search.lucene import LuceneSearcher, querybuilder\n",
    "from pyserini.analysis import get_lucene_analyzer\n",
    "\n",
    "fields = ['artist', 'album', 'language', 'genre']\n",
    "\n",
    "\n",
    "class Searcher():\n",
    "    def __init__(self, searcher: LuceneSearcher, reader: IndexReader, is_stemming=False) -> None:\n",
    "        self.searcher: LuceneSearcher = searcher\n",
    "        self.searcher.set_analyzer(get_lucene_analyzer(stemming=is_stemming))\n",
    "        self.total_docs = reader.stats()['documents']\n",
    "        self.mu = reader.stats()['total_terms'] / reader.stats()['unique_terms']\n",
    "\n",
    "    def song_to_contents(self, song_id):\n",
    "        return self.searcher.doc(song_id).contents() if self.searcher.doc(song_id) else \"\"\n",
    "\n",
    "    def songs_to_query(self, session, time_range, song_ids, cut_song_token=0):\n",
    "        time_min = session_to_time[session] - time_range\n",
    "        time_max = session_to_time[session] + time_range\n",
    "        contents = [self.song_to_contents(song_id) for song_id in song_ids]\n",
    "        contents = [content.split() for content in contents]\n",
    "\n",
    "        query_text = []\n",
    "        query_text_len = 0\n",
    "        count = 10\n",
    "\n",
    "        for content in contents:\n",
    "            max_song_token = count\n",
    "            is_first = True\n",
    "            first_index = -1\n",
    "            last_index = -1\n",
    "            for i in range(len(content)):\n",
    "                if max_song_token <= 0:\n",
    "                    break\n",
    "                if any(field in content[i] for field in fields):\n",
    "                    query_text.append(content[i])\n",
    "                    query_text_len += len(content[i])\n",
    "                    continue\n",
    "                int_x = session_to_time[int(content[i], 16)]\n",
    "                if time_min < int_x < time_max:\n",
    "                    if is_first:\n",
    "                        is_first = False\n",
    "                        first_index = i\n",
    "                    last_index = i\n",
    "                    query_text.append(content[i])\n",
    "                    query_text_len += len(content[i])\n",
    "                    max_song_token -= 1\n",
    "\n",
    "                if int_x > time_max:\n",
    "                    if is_first:\n",
    "                        is_first = False\n",
    "                        first_index = i - 1\n",
    "                        last_index = i - 1\n",
    "                    break\n",
    "\n",
    "            for i in range(first_index, -1, -1):\n",
    "                if max_song_token <= 0 or any(field in content[i] for field in fields):\n",
    "                    break\n",
    "                query_text.append(content[i])\n",
    "                query_text_len += len(content[i])\n",
    "                max_song_token -= 1\n",
    "\n",
    "            for i in range(last_index + 1, len(content)):\n",
    "                if max_song_token <= 0 or any(field in content[i] for field in fields):\n",
    "                    break\n",
    "                query_text.append(content[i])\n",
    "                query_text_len += len(content[i])\n",
    "                max_song_token -= 1\n",
    "\n",
    "        query_text = \" \".join(query_text)\n",
    "\n",
    "        return query_text\n",
    "\n",
    "    def set_max_clause_count(self, max_clause_count):\n",
    "        print(type(self.searcher.object.searcher))\n",
    "        print(\"Original maxCaluseCount:\", self.searcher.object.searcher.maxClauseCount)\n",
    "        self.searcher.object.searcher.setMaxClauseCount(max_clause_count)\n",
    "        print(\"Updated maxCaluseCount:\", self.searcher.object.searcher.maxClauseCount)\n",
    "\n",
    "    def search(self, queries, args):\n",
    "        # self.searcher.set_bm25(b=0, k1=0)\n",
    "        # self.searcher.set_qld(self.mu)\n",
    "        self.searcher.set_jmlm()\n",
    "\n",
    "        results = []\n",
    "\n",
    "        for session_id, qtext in tqdm(queries):\n",
    "            hits = self.searcher.search(qtext, args.k)\n",
    "            results.append([session_id, [hit.docid for hit in hits]])\n",
    "        return results"
   ]
  },
  {
   "cell_type": "code",
   "execution_count": 9,
   "metadata": {
    "ExecuteTime": {
     "end_time": "2023-12-26T05:57:05.070650900Z",
     "start_time": "2023-12-26T05:57:04.896361100Z"
    }
   },
   "outputs": [
    {
     "name": "stdout",
     "output_type": "stream",
     "text": [
      "<class 'jnius.reflect.org.apache.lucene.search.IndexSearcher'>\n",
      "Original maxCaluseCount: 1024\n",
      "Updated maxCaluseCount: 1000000\n"
     ]
    }
   ],
   "source": [
    "class Arg:\n",
    "    def __init__(self, k):\n",
    "        self.k = k\n",
    "\n",
    "\n",
    "args = Arg(k=100)\n",
    "index = \"indexes/collection_jsonl_sparse\"\n",
    "stem = False\n",
    "\n",
    "luceneSearcher = MyLuceneSearcher(index)\n",
    "reader = IndexReader(index)\n",
    "searcher = Searcher(searcher=luceneSearcher, reader=reader, is_stemming=stem)\n",
    "\n",
    "max_clause_count = 1000000\n",
    "searcher.set_max_clause_count(max_clause_count)"
   ]
  },
  {
   "cell_type": "code",
   "execution_count": 10,
   "metadata": {
    "ExecuteTime": {
     "end_time": "2023-12-26T06:01:13.431255600Z",
     "start_time": "2023-12-26T05:57:05.068145500Z"
    }
   },
   "outputs": [
    {
     "name": "stdout",
     "output_type": "stream",
     "text": [
      "Preparing queries...\n"
     ]
    },
    {
     "name": "stderr",
     "output_type": "stream",
     "text": [
      "100%|██████████| 143064/143064 [04:08<00:00, 576.05it/s] \n"
     ]
    }
   ],
   "source": [
    "# Prepare queries = [[session_id, query], ...]\n",
    "print(\"Preparing queries...\")\n",
    "last_n_song = 10  # TODO : check this\n",
    "queries = []\n",
    "too_long_count = 0\n",
    "for session, songs in tqdm(session_to_songs.items()):\n",
    "    qtext = searcher.songs_to_query(session, 0, songs[-5:])\n",
    "    queries.append([session, qtext])"
   ]
  },
  {
   "cell_type": "code",
   "execution_count": 11,
   "outputs": [
    {
     "data": {
      "text/plain": "'artist2 album87608 language3 genrece4db56f6a48426643b08038139a8a75 7905a 29da8 2f62c 5795f 5795f ac049 71dd9 7905a 47b5b 7905a artist2 album87608 language3 genreb856b6781d370a3645c6dde0c20b3597 2e321 7f3b0 1b0bf 7a00e 6c5f6 7a00d 8d853 6423c 61982 89041 artist2 album87608 language3 genrece4db56f6a48426643b08038139a8a75 92989 98367 8d853 766f9 764aa 7bda8 8c331 69540 29b2b 80f76 artist31165878 album127736324 language3 genrece4db56f6a48426643b08038139a8a75 a9f6e 21293 3c6af 3c6af 7ca24 44804 944ea 944ea 944ea 944ea artist6278 a4c9f a4c9f 4d26c 8755c a4c9d a4c9d 4b758 9f4d1 327b9 a4c9b'"
     },
     "execution_count": 11,
     "metadata": {},
     "output_type": "execute_result"
    }
   ],
   "source": [
    "qtext"
   ],
   "metadata": {
    "collapsed": false,
    "ExecuteTime": {
     "end_time": "2023-12-26T06:01:13.431255600Z",
     "start_time": "2023-12-26T06:01:13.427252200Z"
    }
   }
  },
  {
   "cell_type": "code",
   "execution_count": 12,
   "outputs": [
    {
     "data": {
      "text/plain": "['700a3bbe2b689e2da396bee4daafa4b2',\n '7ce1913e1511f3d77da7a0b32e640604',\n '700a3bbe2b689e2da396bee4daafa4b2',\n 'bc603ae5839065a50a23592003bf4233',\n 'c6cbfaccb4c07120a76da6b9c14e5902',\n '14b087038ee0d59c55ae0a8e6cbbe081',\n '110aed5fac7d6f46e7a667ad1261d42e',\n '488eb3b766d16e5e13009566aeb5ab5f',\n '68b5f72cb29c3ad2fffa47209597860f',\n 'a20728aa7e8122584e8b5863c7d0bc02',\n '015c340cf3a75afb53040ce0d01e6b13',\n '8a4c8f80d095a42feaedaee4cf25be84',\n '723ab216ae4e5161e397c462a1cf8954',\n 'e667f16939964f81bccad710ed0adce9',\n '1353435a907399cb65b925c6b5e3960b',\n '00cef2617cceaa2299a47a79f6100ee2',\n '605b1abcba2f893bdceaf20276be07c7',\n '3df18462598942a0e906c9327fc0e738',\n '3b4f31812ec47aaf14ab56939dbe9b57',\n '1c285118397adfe939edb78504fe6259']"
     },
     "execution_count": 12,
     "metadata": {},
     "output_type": "execute_result"
    }
   ],
   "source": [
    "songs"
   ],
   "metadata": {
    "collapsed": false,
    "ExecuteTime": {
     "end_time": "2023-12-26T06:01:13.441462700Z",
     "start_time": "2023-12-26T06:01:13.431255600Z"
    }
   }
  },
  {
   "cell_type": "code",
   "execution_count": 14,
   "metadata": {
    "ExecuteTime": {
     "end_time": "2023-12-26T06:28:02.163755400Z",
     "start_time": "2023-12-26T06:01:13.484017600Z"
    }
   },
   "outputs": [
    {
     "name": "stdout",
     "output_type": "stream",
     "text": [
      "Searching...\n",
      "set to jmlm with lambda = 0.9999\n"
     ]
    },
    {
     "name": "stderr",
     "output_type": "stream",
     "text": [
      "100%|██████████| 143064/143064 [26:48<00:00, 88.93it/s] \n"
     ]
    }
   ],
   "source": [
    "print(\"Searching...\")\n",
    "results = searcher.search(queries, args)"
   ]
  },
  {
   "cell_type": "code",
   "execution_count": 15,
   "outputs": [],
   "source": [
    "import pickle\n",
    "\n",
    "with open('jmlm_0.9999_token10.pkl', 'wb') as file:\n",
    "    pickle.dump(results, file)"
   ],
   "metadata": {
    "collapsed": false,
    "ExecuteTime": {
     "end_time": "2023-12-26T06:28:05.459023400Z",
     "start_time": "2023-12-26T06:28:02.157750600Z"
    }
   }
  }
 ],
 "metadata": {
  "kernelspec": {
   "display_name": "pyserini",
   "language": "python",
   "name": "python3"
  },
  "language_info": {
   "codemirror_mode": {
    "name": "ipython",
    "version": 3
   },
   "file_extension": ".py",
   "mimetype": "text/x-python",
   "name": "python",
   "nbconvert_exporter": "python",
   "pygments_lexer": "ipython3",
   "version": "3.8.17"
  }
 },
 "nbformat": 4,
 "nbformat_minor": 2
}
